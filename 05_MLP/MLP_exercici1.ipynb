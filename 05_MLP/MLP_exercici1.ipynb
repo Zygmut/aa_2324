{
 "cells": [
  {
   "cell_type": "code",
   "execution_count": 1,
   "metadata": {
    "id": "XxdTVpgVQ6Jp"
   },
   "outputs": [],
   "source": [
    "# -*- coding: utf-8 -*-\n",
    "import torch\n",
    "import math\n",
    "import torch.optim as optim\n",
    "import numpy as np\n",
    "import matplotlib.pyplot as plt\n",
    "from sklearn.model_selection import train_test_split\n",
    "\n",
    "\n",
    "from sklearn.datasets import make_friedman1"
   ]
  },
  {
   "cell_type": "markdown",
   "metadata": {
    "id": "CPAOix_lRtN1"
   },
   "source": [
    "# Exercici de Regressió\n",
    "\n",
    "En aquest primer exercici el que es demana és que repetiu el mateix procés que el tutorial però en un problema una mica més complicat. La vostra xarxa haurà de tenir alguna capa més.\n",
    "\n",
    "## Generació de les dades\n",
    "\n",
    "Emprarem un conjunt de dades que s'autogenera a partir de certs paràmetres, la variable a predir es correspon amb la següent fórmula:\n",
    "\n",
    "$y(X) = 10 * \\sin(\\pi * X[0] * X[1]) + 20 * (X[2] - 0.5)^2 + 10 * X[3] + 5 * X[4] + noise * N(0, 1).$\n",
    "\n",
    "Com podeu observar tenim 5 variables útils i les altres que són independents de `y`.\n",
    "\n",
    "[Més informació](https://projecteuclid.org/journals/annals-of-statistics/volume-19/issue-1/Multivariate-Adaptive-Regression-Splines/10.1214/aos/1176347963.full)\n",
    "\n",
    "**ToDo**\n",
    "\n",
    "-   En aquesta passa només heu de separar les dades en conjunt d'entrenament i test. Les etiquetes del conjunt de test s'han de dir `y_test`.\n"
   ]
  },
  {
   "cell_type": "code",
   "execution_count": 15,
   "metadata": {
    "id": "bk0yTJY2Rstp"
   },
   "outputs": [
    {
     "name": "stdout",
     "output_type": "stream",
     "text": [
      "tensor([[0.8960, 0.5675, 0.5174, 0.0727, 0.0589, 0.1814, 0.6625, 0.0799, 0.6250,\n",
      "         0.5706],\n",
      "        [0.2243, 0.8191, 0.8394, 0.0718, 0.2894, 0.9238, 0.6548, 0.6373, 0.0239,\n",
      "         0.0762],\n",
      "        [0.6090, 0.2585, 0.7239, 0.7801, 0.2757, 0.1855, 0.0447, 0.7107, 0.3288,\n",
      "         0.2159]])\n",
      "tensor([[0.4797, 0.6600, 0.7291, 0.4464, 0.1414, 0.4084, 0.2764, 0.0905, 0.4450,\n",
      "         0.6368],\n",
      "        [0.8019, 0.7618, 0.0836, 0.6982, 0.9053, 0.5579, 0.7303, 0.9471, 0.3605,\n",
      "         0.3795],\n",
      "        [0.3726, 0.7179, 0.9301, 0.0667, 0.9722, 0.7588, 0.5675, 0.0341, 0.2206,\n",
      "         0.4544]])\n",
      "tensor([11.0244,  9.9256, 14.9295])\n",
      "tensor([14.6066, 24.3752, 16.6766])\n"
     ]
    }
   ],
   "source": [
    "X, y = make_friedman1(n_samples=2000, n_features=10, noise=0.0, random_state=33)\n",
    "\n",
    "X = torch.from_numpy(X)\n",
    "y = torch.from_numpy(y)\n",
    "X = X.float()\n",
    "y = y.float()\n",
    "\n",
    "train_data, test_data, train_pred, test_pred = train_test_split(\n",
    "    X, y, test_size=0.33, random_state=42\n",
    ")\n",
    "\n",
    "\n",
    "def consume(iterator: iter):\n",
    "    for item in iterator:\n",
    "        item\n",
    "\n",
    "\n",
    "consume(map(lambda x: print(x[:3]), [train_data, test_data, train_pred, test_pred]))"
   ]
  },
  {
   "cell_type": "markdown",
   "metadata": {
    "id": "48Xadr-fV11A"
   },
   "source": [
    "## Definició de la xarxa\n",
    "\n",
    "**ToDo**\n",
    "\n",
    "-   Heu de definir la xarxa amb la qual voleu treballar, provau amb diferents arquitectures.\n",
    "-   Heu de definir la funció de pèrdua, podeu emprar MSE.\n"
   ]
  },
  {
   "cell_type": "code",
   "execution_count": 161,
   "metadata": {
    "id": "7Nuf4lBWRWCX"
   },
   "outputs": [],
   "source": [
    "model = torch.nn.Sequential(\n",
    "    torch.nn.Linear(10,15),\n",
    "    torch.nn.ReLU(),\n",
    "    torch.nn.Linear(15,3),\n",
    "    torch.nn.ReLU(),\n",
    "    torch.nn.Linear(3,1),\n",
    "    torch.nn.Flatten(0,1)\n",
    ")\n",
    "loss_fn = torch.nn.MSELoss(reduction='sum')\n",
    "optimizer = torch.optim.SGD(model.parameters(), lr=1e-6)"
   ]
  },
  {
   "cell_type": "markdown",
   "metadata": {
    "id": "rB17SF-GWDKV"
   },
   "source": [
    "## Entrenament\n",
    "\n",
    "En aquesta part heu de definir el bucle d'entrenament:\n",
    "\n",
    "**ToDo**\n",
    "\n",
    "-   Predicció.\n",
    "-   Càlcul de la funció de pèrdua.\n",
    "-   Càlcul del descens del gradient.\n",
    "\n",
    "Volem veure un gràfic on es mostri el valor de la funció de pèrdua pel conjunt d'entrenament i del conjunt de test a cada iteració.\n"
   ]
  },
  {
   "cell_type": "code",
   "execution_count": 175,
   "metadata": {
    "id": "AFTYhyLRWE24"
   },
   "outputs": [
    {
     "data": {
      "text/plain": [
       "array([333568.        , 331332.4375    , 329159.1875    , ...,\n",
       "         3808.31054688,   3807.82763672,   3807.34521484])"
      ]
     },
     "execution_count": 175,
     "metadata": {},
     "output_type": "execute_result"
    }
   ],
   "source": [
    "def simple_train(model, optimizer_fn, loss_fn, n_epochs, data, labels):\n",
    "    model.train()\n",
    "\n",
    "    losses = np.zeros(n_epochs)\n",
    "\n",
    "    for epoch in range(n_epochs):\n",
    "        epoch_pred = model(data)\n",
    "\n",
    "        loss = loss_fn(epoch_pred, labels)\n",
    "\n",
    "        losses[epoch] = loss.item()\n",
    "\n",
    "        model.zero_grad()\n",
    "        loss.backward()\n",
    "\n",
    "        with torch.no_grad():\n",
    "            optimizer.step()\n",
    "\n",
    "    return losses\n",
    "\n",
    "\n",
    "# Reset previous runs for the model, and optimizer\n",
    "optimizer.zero_grad()\n",
    "\n",
    "layers_to_reset = filter(\n",
    "    lambda layer: hasattr(layer, \"reset_parameters\"), model.children()\n",
    ")\n",
    "\n",
    "for layer in layers_to_reset:\n",
    "    layer.reset_parameters()\n",
    "\n",
    "simple_train(\n",
    "    model=model,\n",
    "    optimizer_fn=optimizer,\n",
    "    loss_fn=loss_fn,\n",
    "    n_epochs=6000,\n",
    "    data=train_data,\n",
    "    labels=train_pred,\n",
    ")"
   ]
  },
  {
   "cell_type": "markdown",
   "metadata": {
    "id": "v5oZykCgcNqD"
   },
   "source": [
    "## Resultats\n",
    "\n",
    "**ToDo**\n",
    "\n",
    "-   Dibuixar el gràfic emprant un gràfic on podrem comparar com de bons són els nostres resultats respecte els\n"
   ]
  },
  {
   "cell_type": "code",
   "execution_count": 176,
   "metadata": {
    "collapsed": false
   },
   "outputs": [
    {
     "data": {
      "image/png": "[encoded data removed]",
      "text/plain": [
       "<Figure size 640x480 with 1 Axes>"
      ]
     },
     "metadata": {},
     "output_type": "display_data"
    }
   ],
   "source": [
    "model.eval()\n",
    "prediction = model(test_data)\n",
    "\n",
    "plt.title(\"Resultats visuals\")\n",
    "plt.scatter(test_pred, prediction.detach().numpy(), c=\"red\")\n",
    "plt.plot(test_pred, test_pred)\n",
    "plt.show()"
   ]
  }
 ],
 "metadata": {
  "colab": {
   "collapsed_sections": [],
   "provenance": []
  },
  "kernelspec": {
   "display_name": "Python 3",
   "name": "python3"
  },
  "language_info": {
   "codemirror_mode": {
    "name": "ipython",
    "version": 3
   },
   "file_extension": ".py",
   "mimetype": "text/x-python",
   "name": "python",
   "nbconvert_exporter": "python",
   "pygments_lexer": "ipython3",
   "version": "3.10.13"
  }
 },
 "nbformat": 4,
 "nbformat_minor": 0
}
